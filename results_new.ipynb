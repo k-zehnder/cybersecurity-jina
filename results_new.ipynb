{
 "cells": [
  {
   "cell_type": "code",
   "execution_count": 32,
   "metadata": {},
   "outputs": [
    {
     "name": "stderr",
     "output_type": "stream",
     "text": [
      "\u001b[1;33mDeprecationWarning: `should_run_async` will not call `transform_cell` automatically in the future. Please pass the result to `transformed_cell` argument and any exception that happen during thetransform in `preprocessing_exc_tuple` in IPython 7.17 and above.\u001b[0m \u001b[1;30m(raised from /home/batman/.local/lib/python3.8/site-packages/ipykernel/ipkernel.py:283)\u001b[0m\n"
     ]
    }
   ],
   "source": [
    "from jina import Document, DocumentArray\n",
    "from sklearn.metrics import accuracy_score, recall_score, precision_score, f1_score\n",
    "import pandas as pd\n",
    "import numpy as np"
   ]
  },
  {
   "cell_type": "code",
   "execution_count": 33,
   "metadata": {},
   "outputs": [
    {
     "name": "stderr",
     "output_type": "stream",
     "text": [
      "\u001b[1;33mDeprecationWarning: `should_run_async` will not call `transform_cell` automatically in the future. Please pass the result to `transformed_cell` argument and any exception that happen during thetransform in `preprocessing_exc_tuple` in IPython 7.17 and above.\u001b[0m \u001b[1;30m(raised from /home/batman/.local/lib/python3.8/site-packages/ipykernel/ipkernel.py:283)\u001b[0m\n"
     ]
    },
    {
     "data": {
      "text/html": [
       "<div>\n",
       "<style scoped>\n",
       "    .dataframe tbody tr th:only-of-type {\n",
       "        vertical-align: middle;\n",
       "    }\n",
       "\n",
       "    .dataframe tbody tr th {\n",
       "        vertical-align: top;\n",
       "    }\n",
       "\n",
       "    .dataframe thead th {\n",
       "        text-align: right;\n",
       "    }\n",
       "</style>\n",
       "<table border=\"1\" class=\"dataframe\">\n",
       "  <thead>\n",
       "    <tr style=\"text-align: right;\">\n",
       "      <th></th>\n",
       "      <th>0</th>\n",
       "      <th>1</th>\n",
       "      <th>2</th>\n",
       "      <th>3</th>\n",
       "      <th>4</th>\n",
       "      <th>5</th>\n",
       "      <th>6</th>\n",
       "      <th>7</th>\n",
       "      <th>8</th>\n",
       "      <th>9</th>\n",
       "      <th>...</th>\n",
       "      <th>Active Mean</th>\n",
       "      <th>Active Std</th>\n",
       "      <th>Active Max</th>\n",
       "      <th>Active Min</th>\n",
       "      <th>Idle Mean</th>\n",
       "      <th>Idle Std</th>\n",
       "      <th>Idle Max</th>\n",
       "      <th>Idle Min</th>\n",
       "      <th>dt</th>\n",
       "      <th>Label.1</th>\n",
       "    </tr>\n",
       "  </thead>\n",
       "  <tbody>\n",
       "    <tr>\n",
       "      <th>0</th>\n",
       "      <td>0.0</td>\n",
       "      <td>30507650.0</td>\n",
       "      <td>0.0</td>\n",
       "      <td>0.0</td>\n",
       "      <td>0.0</td>\n",
       "      <td>128301070.0</td>\n",
       "      <td>0.0</td>\n",
       "      <td>110489750.0</td>\n",
       "      <td>59713990.0</td>\n",
       "      <td>0.0</td>\n",
       "      <td>...</td>\n",
       "      <td>27409.363636</td>\n",
       "      <td>21635.261127</td>\n",
       "      <td>92642</td>\n",
       "      <td>20839</td>\n",
       "      <td>1.000596e+07</td>\n",
       "      <td>14032.553854</td>\n",
       "      <td>10010275</td>\n",
       "      <td>9963654</td>\n",
       "      <td>2018-01-20 13:30:21</td>\n",
       "      <td>0</td>\n",
       "    </tr>\n",
       "    <tr>\n",
       "      <th>1</th>\n",
       "      <td>0.0</td>\n",
       "      <td>0.0</td>\n",
       "      <td>0.0</td>\n",
       "      <td>0.0</td>\n",
       "      <td>0.0</td>\n",
       "      <td>128371336.0</td>\n",
       "      <td>0.0</td>\n",
       "      <td>166059340.0</td>\n",
       "      <td>105106670.0</td>\n",
       "      <td>0.0</td>\n",
       "      <td>...</td>\n",
       "      <td>0.000000</td>\n",
       "      <td>0.000000</td>\n",
       "      <td>0</td>\n",
       "      <td>0</td>\n",
       "      <td>0.000000e+00</td>\n",
       "      <td>0.000000</td>\n",
       "      <td>0</td>\n",
       "      <td>0</td>\n",
       "      <td>2018-01-20 13:30:22</td>\n",
       "      <td>0</td>\n",
       "    </tr>\n",
       "  </tbody>\n",
       "</table>\n",
       "<p>2 rows × 210 columns</p>\n",
       "</div>"
      ],
      "text/plain": [
       "     0           1    2    3    4            5    6            7            8  \\\n",
       "0  0.0  30507650.0  0.0  0.0  0.0  128301070.0  0.0  110489750.0   59713990.0   \n",
       "1  0.0         0.0  0.0  0.0  0.0  128371336.0  0.0  166059340.0  105106670.0   \n",
       "\n",
       "     9  ...   Active Mean    Active Std  Active Max  Active Min     Idle Mean  \\\n",
       "0  0.0  ...  27409.363636  21635.261127       92642       20839  1.000596e+07   \n",
       "1  0.0  ...      0.000000      0.000000           0           0  0.000000e+00   \n",
       "\n",
       "       Idle Std  Idle Max  Idle Min                   dt  Label.1  \n",
       "0  14032.553854  10010275   9963654  2018-01-20 13:30:21        0  \n",
       "1      0.000000         0         0  2018-01-20 13:30:22        0  \n",
       "\n",
       "[2 rows x 210 columns]"
      ]
     },
     "execution_count": 33,
     "metadata": {},
     "output_type": "execute_result"
    }
   ],
   "source": [
    "# embeddings_df = pd.read_csv(\"/home/batman/Desktop/py/cybersecurity-jina/data/embeddings_df_with_details.csv\") # doesnt work\n",
    "embeddings_df = pd.read_csv(\"/home/batman/Desktop/py/cybersecurity-jina/data/dataset_2_embeddings_df_with_details.csv\")\n",
    "# embeddings_df = pd.read_csv(\"/home/batman/Desktop/py/cybersecurity-jina/data/eda_notebooks/unseen_128_preds.csv\")\n",
    "embeddings_df.head(2)"
   ]
  },
  {
   "cell_type": "code",
   "execution_count": 34,
   "metadata": {},
   "outputs": [
    {
     "name": "stderr",
     "output_type": "stream",
     "text": [
      "\u001b[1;33mDeprecationWarning: `should_run_async` will not call `transform_cell` automatically in the future. Please pass the result to `transformed_cell` argument and any exception that happen during thetransform in `preprocessing_exc_tuple` in IPython 7.17 and above.\u001b[0m \u001b[1;30m(raised from /home/batman/.local/lib/python3.8/site-packages/ipykernel/ipkernel.py:283)\u001b[0m\n"
     ]
    }
   ],
   "source": [
    "# index = DocumentArray()\n",
    "# for i in range(len(embeddings_df)):\n",
    "#     d = Document(\n",
    "#         embedding=np.array(embeddings_df.iloc[i, :128].tolist()), \n",
    "#         tags={\n",
    "#             \"known_label\" : embeddings_df.loc[i, \"Label\"],\n",
    "#         }\n",
    "#     )\n",
    "#     index.append(d)\n",
    "    \n",
    "index = DocumentArray()\n",
    "for i in range(len(embeddings_df)):\n",
    "    d = Document(\n",
    "        embedding=np.array(embeddings_df.iloc[i, :128].tolist()), \n",
    "        tags={\n",
    "            \"dt\" : embeddings_df.loc[i, \"dt\"],\n",
    "            \"known_label\" : embeddings_df.loc[i, \"Label\"],\n",
    "            \"port\" : float(embeddings_df.loc[i, \"Dst Port\"]),\n",
    "            \"protocol\" : float(embeddings_df.loc[i, \"Protocol\"]),\n",
    "        }\n",
    "    )\n",
    "    index.append(d)\n",
    "    \n",
    "    "
   ]
  },
  {
   "cell_type": "code",
   "execution_count": 35,
   "metadata": {},
   "outputs": [
    {
     "name": "stderr",
     "output_type": "stream",
     "text": [
      "\u001b[1;33mDeprecationWarning: `should_run_async` will not call `transform_cell` automatically in the future. Please pass the result to `transformed_cell` argument and any exception that happen during thetransform in `preprocessing_exc_tuple` in IPython 7.17 and above.\u001b[0m \u001b[1;30m(raised from /home/batman/.local/lib/python3.8/site-packages/ipykernel/ipkernel.py:283)\u001b[0m\n"
     ]
    },
    {
     "data": {
      "text/html": [
       "<pre style=\"white-space:pre;overflow-x:auto;line-height:normal;font-family:Menlo,'DejaVu Sans Mono',consolas,'Courier New',monospace\">╭────────────────── Documents Summary ───────────────────╮\n",
       "│                                                        │\n",
       "│   Length                 <span style=\"color: #008080; text-decoration-color: #008080; font-weight: bold\">15000</span>                         │\n",
       "│   Homogenous Documents   <span style=\"color: #00ff00; text-decoration-color: #00ff00; font-style: italic\">True</span>                          │\n",
       "│   Common Attributes      <span style=\"font-weight: bold\">(</span><span style=\"color: #008000; text-decoration-color: #008000\">'id'</span>, <span style=\"color: #008000; text-decoration-color: #008000\">'tags'</span>, <span style=\"color: #008000; text-decoration-color: #008000\">'embedding'</span><span style=\"font-weight: bold\">)</span>   │\n",
       "│   Multimodal dataclass   <span style=\"color: #ff0000; text-decoration-color: #ff0000; font-style: italic\">False</span>                         │\n",
       "│                                                        │\n",
       "╰────────────────────────────────────────────────────────╯\n",
       "╭────────────────────── Attributes Summary ───────────────────────╮\n",
       "│                                                                 │\n",
       "│  <span style=\"font-weight: bold\"> Attribute </span> <span style=\"font-weight: bold\"> Data type    </span> <span style=\"font-weight: bold\"> #Unique values </span> <span style=\"font-weight: bold\"> Has empty value </span>  │\n",
       "│  ─────────────────────────────────────────────────────────────  │\n",
       "│   embedding   <span style=\"font-weight: bold\">(</span><span style=\"color: #008000; text-decoration-color: #008000\">'ndarray'</span>,<span style=\"font-weight: bold\">)</span>   <span style=\"color: #008080; text-decoration-color: #008080; font-weight: bold\">15000</span>            <span style=\"color: #ff0000; text-decoration-color: #ff0000; font-style: italic\">False</span>             │\n",
       "│   id          <span style=\"font-weight: bold\">(</span><span style=\"color: #008000; text-decoration-color: #008000\">'str'</span>,<span style=\"font-weight: bold\">)</span>       <span style=\"color: #008080; text-decoration-color: #008080; font-weight: bold\">15000</span>            <span style=\"color: #ff0000; text-decoration-color: #ff0000; font-style: italic\">False</span>             │\n",
       "│   tags        <span style=\"font-weight: bold\">(</span><span style=\"color: #008000; text-decoration-color: #008000\">'dict'</span>,<span style=\"font-weight: bold\">)</span>      <span style=\"color: #008080; text-decoration-color: #008080; font-weight: bold\">15000</span>            <span style=\"color: #ff0000; text-decoration-color: #ff0000; font-style: italic\">False</span>             │\n",
       "│                                                                 │\n",
       "╰─────────────────────────────────────────────────────────────────╯\n",
       "</pre>\n"
      ],
      "text/plain": [
       "╭────────────────── Documents Summary ───────────────────╮\n",
       "│                                                        │\n",
       "│   Length                 \u001b[1;36m15000\u001b[0m                         │\n",
       "│   Homogenous Documents   \u001b[3;92mTrue\u001b[0m                          │\n",
       "│   Common Attributes      \u001b[1m(\u001b[0m\u001b[32m'id'\u001b[0m, \u001b[32m'tags'\u001b[0m, \u001b[32m'embedding'\u001b[0m\u001b[1m)\u001b[0m   │\n",
       "│   Multimodal dataclass   \u001b[3;91mFalse\u001b[0m                         │\n",
       "│                                                        │\n",
       "╰────────────────────────────────────────────────────────╯\n",
       "╭────────────────────── Attributes Summary ───────────────────────╮\n",
       "│                                                                 │\n",
       "│  \u001b[1m \u001b[0m\u001b[1mAttribute\u001b[0m\u001b[1m \u001b[0m \u001b[1m \u001b[0m\u001b[1mData type   \u001b[0m\u001b[1m \u001b[0m \u001b[1m \u001b[0m\u001b[1m#Unique values\u001b[0m\u001b[1m \u001b[0m \u001b[1m \u001b[0m\u001b[1mHas empty value\u001b[0m\u001b[1m \u001b[0m  │\n",
       "│  ─────────────────────────────────────────────────────────────  │\n",
       "│   embedding   \u001b[1m(\u001b[0m\u001b[32m'ndarray'\u001b[0m,\u001b[1m)\u001b[0m   \u001b[1;36m15000\u001b[0m            \u001b[3;91mFalse\u001b[0m             │\n",
       "│   id          \u001b[1m(\u001b[0m\u001b[32m'str'\u001b[0m,\u001b[1m)\u001b[0m       \u001b[1;36m15000\u001b[0m            \u001b[3;91mFalse\u001b[0m             │\n",
       "│   tags        \u001b[1m(\u001b[0m\u001b[32m'dict'\u001b[0m,\u001b[1m)\u001b[0m      \u001b[1;36m15000\u001b[0m            \u001b[3;91mFalse\u001b[0m             │\n",
       "│                                                                 │\n",
       "╰─────────────────────────────────────────────────────────────────╯\n"
      ]
     },
     "metadata": {},
     "output_type": "display_data"
    }
   ],
   "source": [
    "index.summary()"
   ]
  },
  {
   "cell_type": "code",
   "execution_count": 39,
   "metadata": {},
   "outputs": [
    {
     "name": "stderr",
     "output_type": "stream",
     "text": [
      "\u001b[1;33mDeprecationWarning: `should_run_async` will not call `transform_cell` automatically in the future. Please pass the result to `transformed_cell` argument and any exception that happen during thetransform in `preprocessing_exc_tuple` in IPython 7.17 and above.\u001b[0m \u001b[1;30m(raised from /home/batman/.local/lib/python3.8/site-packages/ipykernel/ipkernel.py:283)\u001b[0m\n"
     ]
    },
    {
     "data": {
      "text/html": [
       "<pre style=\"white-space:pre;overflow-x:auto;line-height:normal;font-family:Menlo,'DejaVu Sans Mono',consolas,'Courier New',monospace\">╭───────────────────────── Documents Summary ──────────────────────────╮\n",
       "│                                                                      │\n",
       "│   Length                    <span style=\"color: #008080; text-decoration-color: #008080; font-weight: bold\">15000</span>                                    │\n",
       "│   Homogenous Documents      <span style=\"color: #00ff00; text-decoration-color: #00ff00; font-style: italic\">True</span>                                     │\n",
       "│   Has nested Documents in   <span style=\"font-weight: bold\">(</span><span style=\"color: #008000; text-decoration-color: #008000\">'matches'</span>,<span style=\"font-weight: bold\">)</span>                             │\n",
       "│   Common Attributes         <span style=\"font-weight: bold\">(</span><span style=\"color: #008000; text-decoration-color: #008000\">'id'</span>, <span style=\"color: #008000; text-decoration-color: #008000\">'tags'</span>, <span style=\"color: #008000; text-decoration-color: #008000\">'embedding'</span>, <span style=\"color: #008000; text-decoration-color: #008000\">'matches'</span><span style=\"font-weight: bold\">)</span>   │\n",
       "│   Multimodal dataclass      <span style=\"color: #ff0000; text-decoration-color: #ff0000; font-style: italic\">False</span>                                    │\n",
       "│                                                                      │\n",
       "╰──────────────────────────────────────────────────────────────────────╯\n",
       "╭──────────────────────── Attributes Summary ────────────────────────╮\n",
       "│                                                                    │\n",
       "│  <span style=\"font-weight: bold\"> Attribute </span> <span style=\"font-weight: bold\"> Data type       </span> <span style=\"font-weight: bold\"> #Unique values </span> <span style=\"font-weight: bold\"> Has empty value </span>  │\n",
       "│  ────────────────────────────────────────────────────────────────  │\n",
       "│   embedding   <span style=\"font-weight: bold\">(</span><span style=\"color: #008000; text-decoration-color: #008000\">'ndarray'</span>,<span style=\"font-weight: bold\">)</span>      <span style=\"color: #008080; text-decoration-color: #008080; font-weight: bold\">15000</span>            <span style=\"color: #ff0000; text-decoration-color: #ff0000; font-style: italic\">False</span>             │\n",
       "│   id          <span style=\"font-weight: bold\">(</span><span style=\"color: #008000; text-decoration-color: #008000\">'str'</span>,<span style=\"font-weight: bold\">)</span>          <span style=\"color: #008080; text-decoration-color: #008080; font-weight: bold\">15000</span>            <span style=\"color: #ff0000; text-decoration-color: #ff0000; font-style: italic\">False</span>             │\n",
       "│   matches     <span style=\"font-weight: bold\">(</span><span style=\"color: #008000; text-decoration-color: #008000\">'MatchArray'</span>,<span style=\"font-weight: bold\">)</span>   <span style=\"color: #008080; text-decoration-color: #008080; font-weight: bold\">15000</span>            <span style=\"color: #ff0000; text-decoration-color: #ff0000; font-style: italic\">False</span>             │\n",
       "│   tags        <span style=\"font-weight: bold\">(</span><span style=\"color: #008000; text-decoration-color: #008000\">'dict'</span>,<span style=\"font-weight: bold\">)</span>         <span style=\"color: #008080; text-decoration-color: #008080; font-weight: bold\">15000</span>            <span style=\"color: #ff0000; text-decoration-color: #ff0000; font-style: italic\">False</span>             │\n",
       "│                                                                    │\n",
       "╰────────────────────────────────────────────────────────────────────╯\n",
       "</pre>\n"
      ],
      "text/plain": [
       "╭───────────────────────── Documents Summary ──────────────────────────╮\n",
       "│                                                                      │\n",
       "│   Length                    \u001b[1;36m15000\u001b[0m                                    │\n",
       "│   Homogenous Documents      \u001b[3;92mTrue\u001b[0m                                     │\n",
       "│   Has nested Documents in   \u001b[1m(\u001b[0m\u001b[32m'matches'\u001b[0m,\u001b[1m)\u001b[0m                             │\n",
       "│   Common Attributes         \u001b[1m(\u001b[0m\u001b[32m'id'\u001b[0m, \u001b[32m'tags'\u001b[0m, \u001b[32m'embedding'\u001b[0m, \u001b[32m'matches'\u001b[0m\u001b[1m)\u001b[0m   │\n",
       "│   Multimodal dataclass      \u001b[3;91mFalse\u001b[0m                                    │\n",
       "│                                                                      │\n",
       "╰──────────────────────────────────────────────────────────────────────╯\n",
       "╭──────────────────────── Attributes Summary ────────────────────────╮\n",
       "│                                                                    │\n",
       "│  \u001b[1m \u001b[0m\u001b[1mAttribute\u001b[0m\u001b[1m \u001b[0m \u001b[1m \u001b[0m\u001b[1mData type      \u001b[0m\u001b[1m \u001b[0m \u001b[1m \u001b[0m\u001b[1m#Unique values\u001b[0m\u001b[1m \u001b[0m \u001b[1m \u001b[0m\u001b[1mHas empty value\u001b[0m\u001b[1m \u001b[0m  │\n",
       "│  ────────────────────────────────────────────────────────────────  │\n",
       "│   embedding   \u001b[1m(\u001b[0m\u001b[32m'ndarray'\u001b[0m,\u001b[1m)\u001b[0m      \u001b[1;36m15000\u001b[0m            \u001b[3;91mFalse\u001b[0m             │\n",
       "│   id          \u001b[1m(\u001b[0m\u001b[32m'str'\u001b[0m,\u001b[1m)\u001b[0m          \u001b[1;36m15000\u001b[0m            \u001b[3;91mFalse\u001b[0m             │\n",
       "│   matches     \u001b[1m(\u001b[0m\u001b[32m'MatchArray'\u001b[0m,\u001b[1m)\u001b[0m   \u001b[1;36m15000\u001b[0m            \u001b[3;91mFalse\u001b[0m             │\n",
       "│   tags        \u001b[1m(\u001b[0m\u001b[32m'dict'\u001b[0m,\u001b[1m)\u001b[0m         \u001b[1;36m15000\u001b[0m            \u001b[3;91mFalse\u001b[0m             │\n",
       "│                                                                    │\n",
       "╰────────────────────────────────────────────────────────────────────╯\n"
      ]
     },
     "metadata": {},
     "output_type": "display_data"
    }
   ],
   "source": [
    "from config import configs\n",
    "# embeddings from different day of data to find nearest neighbors in data already indexed\n",
    "# dont want to cheat!\n",
    "old_index = DocumentArray.load(configs[\"INDEX_PATH\"]) \n",
    "# index.match(old_index, exclude_self=True) # or use find\n",
    "index.summary()"
   ]
  },
  {
   "cell_type": "code",
   "execution_count": 37,
   "metadata": {},
   "outputs": [
    {
     "name": "stderr",
     "output_type": "stream",
     "text": [
      "\u001b[1;33mDeprecationWarning: `should_run_async` will not call `transform_cell` automatically in the future. Please pass the result to `transformed_cell` argument and any exception that happen during thetransform in `preprocessing_exc_tuple` in IPython 7.17 and above.\u001b[0m \u001b[1;30m(raised from /home/batman/.local/lib/python3.8/site-packages/ipykernel/ipkernel.py:283)\u001b[0m\n"
     ]
    },
    {
     "data": {
      "text/plain": [
       "{'dt': '2018-01-23 02:56:03',\n",
       " 'port': 53.0,\n",
       " 'known_label': 0.0,\n",
       " 'protocol': 17.0}"
      ]
     },
     "execution_count": 37,
     "metadata": {},
     "output_type": "execute_result"
    }
   ],
   "source": [
    "known_attack = index.find({\"tags__known_label\" : {\"$eq\" : 1.0}})\n",
    "old_index.find(known_attack[2])[0][0].tags"
   ]
  },
  {
   "cell_type": "code",
   "execution_count": 38,
   "metadata": {},
   "outputs": [
    {
     "name": "stderr",
     "output_type": "stream",
     "text": [
      "\u001b[1;33mDeprecationWarning: `should_run_async` will not call `transform_cell` automatically in the future. Please pass the result to `transformed_cell` argument and any exception that happen during thetransform in `preprocessing_exc_tuple` in IPython 7.17 and above.\u001b[0m \u001b[1;30m(raised from /home/batman/.local/lib/python3.8/site-packages/ipykernel/ipkernel.py:283)\u001b[0m\n"
     ]
    },
    {
     "name": "stdout",
     "output_type": "stream",
     "text": [
      "Accuracy: 0.980000\n",
      "Precision: 0.000000\n",
      "Recall: 0.000000\n",
      "F1 score: 0.000000\n"
     ]
    },
    {
     "name": "stderr",
     "output_type": "stream",
     "text": [
      "\u001b[1;33mUndefinedMetricWarning: Precision is ill-defined and being set to 0.0 due to no predicted samples. Use `zero_division` parameter to control this behavior.\u001b[0m \u001b[1;30m(raised from /home/batman/.local/lib/python3.8/site-packages/sklearn/metrics/_classification.py:1327)\u001b[0m\n"
     ]
    }
   ],
   "source": [
    "# NOTE: for find\n",
    "y_test = [] # expected\n",
    "yhat = [] # \"predictions\" aka nearest neighbor/brute force\n",
    "\n",
    "for doc in index[:50]:\n",
    "    # known\n",
    "    if doc.tags.get(\"known_label\") == 0.0:\n",
    "        y_test.append(0.0)\n",
    "    else:\n",
    "        y_test.append(1.0)\n",
    "\n",
    "    #if doc.matches[0].tags.get(\"known_label\") == 0.0:\n",
    "    if old_index.find(doc)[0][0].tags.get(\"known_label\") == 0.0:\n",
    "        yhat.append(0.0)\n",
    "    else:\n",
    "        yhat.append(1.0)\n",
    "\n",
    "\n",
    "# accuracy: (tp + tn) / (p + n)\n",
    "accuracy = accuracy_score(y_test, yhat)\n",
    "print('Accuracy: %f' % accuracy)\n",
    "# precision tp / (tp + fp)\n",
    "precision = precision_score(y_test, yhat)\n",
    "print('Precision: %f' % precision)\n",
    "# recall: tp / (tp + fn)\n",
    "recall = recall_score(y_test, yhat)\n",
    "print('Recall: %f' % recall)\n",
    "# f1: 2 tp / (2 tp + fp + fn)\n",
    "f1 = f1_score(y_test, yhat)\n",
    "print('F1 score: %f' % f1)"
   ]
  },
  {
   "cell_type": "code",
   "execution_count": 40,
   "metadata": {},
   "outputs": [
    {
     "name": "stdout",
     "output_type": "stream",
     "text": [
      "Accuracy: 0.975867\n",
      "Precision: 0.000000\n",
      "Recall: 0.000000\n",
      "F1 score: 0.000000\n"
     ]
    },
    {
     "name": "stderr",
     "output_type": "stream",
     "text": [
      "\u001b[1;33mDeprecationWarning: `should_run_async` will not call `transform_cell` automatically in the future. Please pass the result to `transformed_cell` argument and any exception that happen during thetransform in `preprocessing_exc_tuple` in IPython 7.17 and above.\u001b[0m \u001b[1;30m(raised from /home/batman/.local/lib/python3.8/site-packages/ipykernel/ipkernel.py:283)\u001b[0m\n",
      "\u001b[1;33mUndefinedMetricWarning: Precision is ill-defined and being set to 0.0 due to no predicted samples. Use `zero_division` parameter to control this behavior.\u001b[0m \u001b[1;30m(raised from /home/batman/.local/lib/python3.8/site-packages/sklearn/metrics/_classification.py:1327)\u001b[0m\n"
     ]
    }
   ],
   "source": [
    "# NOTE: for match\n",
    "y_test = [] # expected\n",
    "yhat = [] # \"predictions\" aka nearest neighbor/brute force\n",
    "\n",
    "for doc in index:\n",
    "    # known\n",
    "    if doc.tags.get(\"known_label\") == 0.0:\n",
    "        y_test.append(0.0)\n",
    "    else:\n",
    "        y_test.append(1.0)\n",
    "    \n",
    "    # these are nearest neighbor/brute force which is basically the \"prediction\" since we have embeddings stored in vector space as opposed to a forward pass through neural network or something\n",
    "    if doc.matches[0].tags.get(\"known_label\") == 0.0:\n",
    "        yhat.append(0.0)\n",
    "    else:\n",
    "        yhat.append(1.0)\n",
    "\n",
    "\n",
    "# accuracy: (tp + tn) / (p + n)\n",
    "accuracy = accuracy_score(y_test, yhat)\n",
    "print('Accuracy: %f' % accuracy)\n",
    "# precision tp / (tp + fp)\n",
    "precision = precision_score(y_test, yhat)\n",
    "print('Precision: %f' % precision)\n",
    "# recall: tp / (tp + fn)\n",
    "recall = recall_score(y_test, yhat)\n",
    "print('Recall: %f' % recall)\n",
    "# f1: 2 tp / (2 tp + fp + fn)\n",
    "f1 = f1_score(y_test, yhat)\n",
    "print('F1 score: %f' % f1)"
   ]
  },
  {
   "cell_type": "code",
   "execution_count": null,
   "metadata": {},
   "outputs": [
    {
     "name": "stderr",
     "output_type": "stream",
     "text": [
      "\u001b[1;33mDeprecationWarning: `should_run_async` will not call `transform_cell` automatically in the future. Please pass the result to `transformed_cell` argument and any exception that happen during thetransform in `preprocessing_exc_tuple` in IPython 7.17 and above.\u001b[0m \u001b[1;30m(raised from /home/batman/.local/lib/python3.8/site-packages/ipykernel/ipkernel.py:283)\u001b[0m\n"
     ]
    }
   ],
   "source": [
    "# now do the same with weaviate"
   ]
  },
  {
   "cell_type": "code",
   "execution_count": null,
   "metadata": {},
   "outputs": [
    {
     "name": "stderr",
     "output_type": "stream",
     "text": [
      "\u001b[1;33mDeprecationWarning: `should_run_async` will not call `transform_cell` automatically in the future. Please pass the result to `transformed_cell` argument and any exception that happen during thetransform in `preprocessing_exc_tuple` in IPython 7.17 and above.\u001b[0m \u001b[1;30m(raised from /home/batman/.local/lib/python3.8/site-packages/ipykernel/ipkernel.py:283)\u001b[0m\n"
     ]
    },
    {
     "ename": "ModuleNotFoundError",
     "evalue": "No module named 'weaviate'",
     "output_type": "error",
     "traceback": [
      "\u001b[0;31m---------------------------------------------------------------------------\u001b[0m",
      "\u001b[0;31mModuleNotFoundError\u001b[0m                       Traceback (most recent call last)",
      "\u001b[0;32m<ipython-input-13-320b2b3e4161>\u001b[0m in \u001b[0;36m<module>\u001b[0;34m\u001b[0m\n\u001b[0;32m----> 1\u001b[0;31m da =  DocumentArray(\n\u001b[0m\u001b[1;32m      2\u001b[0m     \u001b[0mstorage\u001b[0m\u001b[0;34m=\u001b[0m\u001b[0;34m'weaviate'\u001b[0m\u001b[0;34m,\u001b[0m \u001b[0mconfig\u001b[0m\u001b[0;34m=\u001b[0m\u001b[0;34m{\u001b[0m\u001b[0;34m'name'\u001b[0m\u001b[0;34m:\u001b[0m \u001b[0;34m'Persisted'\u001b[0m\u001b[0;34m,\u001b[0m \u001b[0;34m'host'\u001b[0m\u001b[0;34m:\u001b[0m \u001b[0;34m'localhost'\u001b[0m\u001b[0;34m,\u001b[0m \u001b[0;34m'port'\u001b[0m\u001b[0;34m:\u001b[0m \u001b[0;36m8080\u001b[0m\u001b[0;34m}\u001b[0m\u001b[0;34m\u001b[0m\u001b[0;34m\u001b[0m\u001b[0m\n\u001b[1;32m      3\u001b[0m )\n\u001b[1;32m      4\u001b[0m \u001b[0;34m\u001b[0m\u001b[0m\n\u001b[1;32m      5\u001b[0m \u001b[0;31m# # simulate; had problems using match with weavaite backend and getting it to persist (even when using as context manager ) so this is workaround\u001b[0m\u001b[0;34m\u001b[0m\u001b[0;34m\u001b[0m\u001b[0;34m\u001b[0m\u001b[0m\n",
      "\u001b[0;32m~/anaconda3/lib/python3.8/site-packages/docarray/array/document.py\u001b[0m in \u001b[0;36m__new__\u001b[0;34m(cls, storage, *args, **kwargs)\u001b[0m\n\u001b[1;32m     90\u001b[0m                 \u001b[0minstance\u001b[0m \u001b[0;34m=\u001b[0m \u001b[0msuper\u001b[0m\u001b[0;34m(\u001b[0m\u001b[0;34m)\u001b[0m\u001b[0;34m.\u001b[0m\u001b[0m__new__\u001b[0m\u001b[0;34m(\u001b[0m\u001b[0mDocumentArrayAnnlite\u001b[0m\u001b[0;34m)\u001b[0m\u001b[0;34m\u001b[0m\u001b[0;34m\u001b[0m\u001b[0m\n\u001b[1;32m     91\u001b[0m             \u001b[0;32melif\u001b[0m \u001b[0mstorage\u001b[0m \u001b[0;34m==\u001b[0m \u001b[0;34m'weaviate'\u001b[0m\u001b[0;34m:\u001b[0m\u001b[0;34m\u001b[0m\u001b[0;34m\u001b[0m\u001b[0m\n\u001b[0;32m---> 92\u001b[0;31m                 \u001b[0;32mfrom\u001b[0m \u001b[0;34m.\u001b[0m\u001b[0mweaviate\u001b[0m \u001b[0;32mimport\u001b[0m \u001b[0mDocumentArrayWeaviate\u001b[0m\u001b[0;34m\u001b[0m\u001b[0;34m\u001b[0m\u001b[0m\n\u001b[0m\u001b[1;32m     93\u001b[0m \u001b[0;34m\u001b[0m\u001b[0m\n\u001b[1;32m     94\u001b[0m                 \u001b[0minstance\u001b[0m \u001b[0;34m=\u001b[0m \u001b[0msuper\u001b[0m\u001b[0;34m(\u001b[0m\u001b[0;34m)\u001b[0m\u001b[0;34m.\u001b[0m\u001b[0m__new__\u001b[0m\u001b[0;34m(\u001b[0m\u001b[0mDocumentArrayWeaviate\u001b[0m\u001b[0;34m)\u001b[0m\u001b[0;34m\u001b[0m\u001b[0;34m\u001b[0m\u001b[0m\n",
      "\u001b[0;32m~/anaconda3/lib/python3.8/site-packages/docarray/array/weaviate.py\u001b[0m in \u001b[0;36m<module>\u001b[0;34m\u001b[0m\n\u001b[1;32m      1\u001b[0m \u001b[0;32mfrom\u001b[0m \u001b[0;34m.\u001b[0m\u001b[0mdocument\u001b[0m \u001b[0;32mimport\u001b[0m \u001b[0mDocumentArray\u001b[0m\u001b[0;34m\u001b[0m\u001b[0;34m\u001b[0m\u001b[0m\n\u001b[0;32m----> 2\u001b[0;31m \u001b[0;32mfrom\u001b[0m \u001b[0;34m.\u001b[0m\u001b[0mstorage\u001b[0m\u001b[0;34m.\u001b[0m\u001b[0mweaviate\u001b[0m \u001b[0;32mimport\u001b[0m \u001b[0mStorageMixins\u001b[0m\u001b[0;34m,\u001b[0m \u001b[0mWeaviateConfig\u001b[0m\u001b[0;34m\u001b[0m\u001b[0;34m\u001b[0m\u001b[0m\n\u001b[0m\u001b[1;32m      3\u001b[0m \u001b[0;34m\u001b[0m\u001b[0m\n\u001b[1;32m      4\u001b[0m \u001b[0m__all__\u001b[0m \u001b[0;34m=\u001b[0m \u001b[0;34m[\u001b[0m\u001b[0;34m'DocumentArrayWeaviate'\u001b[0m\u001b[0;34m,\u001b[0m \u001b[0;34m'WeaviateConfig'\u001b[0m\u001b[0;34m]\u001b[0m\u001b[0;34m\u001b[0m\u001b[0;34m\u001b[0m\u001b[0m\n\u001b[1;32m      5\u001b[0m \u001b[0;34m\u001b[0m\u001b[0m\n",
      "\u001b[0;32m~/anaconda3/lib/python3.8/site-packages/docarray/array/storage/weaviate/__init__.py\u001b[0m in \u001b[0;36m<module>\u001b[0;34m\u001b[0m\n\u001b[1;32m      1\u001b[0m \u001b[0;32mfrom\u001b[0m \u001b[0mabc\u001b[0m \u001b[0;32mimport\u001b[0m \u001b[0mABC\u001b[0m\u001b[0;34m\u001b[0m\u001b[0;34m\u001b[0m\u001b[0m\n\u001b[1;32m      2\u001b[0m \u001b[0;34m\u001b[0m\u001b[0m\n\u001b[0;32m----> 3\u001b[0;31m \u001b[0;32mfrom\u001b[0m \u001b[0;34m.\u001b[0m\u001b[0mbackend\u001b[0m \u001b[0;32mimport\u001b[0m \u001b[0mBackendMixin\u001b[0m\u001b[0;34m,\u001b[0m \u001b[0mWeaviateConfig\u001b[0m\u001b[0;34m\u001b[0m\u001b[0;34m\u001b[0m\u001b[0m\n\u001b[0m\u001b[1;32m      4\u001b[0m \u001b[0;32mfrom\u001b[0m \u001b[0;34m.\u001b[0m\u001b[0mfind\u001b[0m \u001b[0;32mimport\u001b[0m \u001b[0mFindMixin\u001b[0m\u001b[0;34m\u001b[0m\u001b[0;34m\u001b[0m\u001b[0m\n\u001b[1;32m      5\u001b[0m \u001b[0;32mfrom\u001b[0m \u001b[0;34m.\u001b[0m\u001b[0mgetsetdel\u001b[0m \u001b[0;32mimport\u001b[0m \u001b[0mGetSetDelMixin\u001b[0m\u001b[0;34m\u001b[0m\u001b[0;34m\u001b[0m\u001b[0m\n",
      "\u001b[0;32m~/anaconda3/lib/python3.8/site-packages/docarray/array/storage/weaviate/backend.py\u001b[0m in \u001b[0;36m<module>\u001b[0;34m\u001b[0m\n\u001b[1;32m     12\u001b[0m \u001b[0;34m\u001b[0m\u001b[0m\n\u001b[1;32m     13\u001b[0m \u001b[0;32mimport\u001b[0m \u001b[0mnumpy\u001b[0m \u001b[0;32mas\u001b[0m \u001b[0mnp\u001b[0m\u001b[0;34m\u001b[0m\u001b[0;34m\u001b[0m\u001b[0m\n\u001b[0;32m---> 14\u001b[0;31m \u001b[0;32mimport\u001b[0m \u001b[0mweaviate\u001b[0m\u001b[0;34m\u001b[0m\u001b[0;34m\u001b[0m\u001b[0m\n\u001b[0m\u001b[1;32m     15\u001b[0m \u001b[0;34m\u001b[0m\u001b[0m\n\u001b[1;32m     16\u001b[0m \u001b[0;32mfrom\u001b[0m \u001b[0;34m...\u001b[0m\u001b[0;34m.\u001b[0m \u001b[0;32mimport\u001b[0m \u001b[0mDocument\u001b[0m\u001b[0;34m\u001b[0m\u001b[0;34m\u001b[0m\u001b[0m\n",
      "\u001b[0;31mModuleNotFoundError\u001b[0m: No module named 'weaviate'"
     ]
    }
   ],
   "source": [
    "da =  DocumentArray(\n",
    "    storage='weaviate', config={'name': 'Persisted', 'host': 'localhost', 'port': 8080}\n",
    ")\n",
    "\n",
    "# # simulate; had problems using match with weavaite backend and getting it to persist (even when using as context manager ) so this is workaround\n",
    "da = DocumentArray(da, copy=True)\n",
    "da.match(da, exclude_self=True)\n",
    "\n",
    "y_test = [] # expected\n",
    "yhat = [] # \"predictions\" aka nearest neighbor/brute force\n",
    "\n",
    "for doc in index:\n",
    "    # known\n",
    "    if doc.tags.get(\"known_label\") == 0.0:\n",
    "        y_test.append(0.0)\n",
    "    else:\n",
    "        y_test.append(1.0)\n",
    "    \n",
    "    # these are nearest neighbor/brute force which is basically the \"prediction\" since we have embeddings stored in vector space as opposed to a forward pass through neural network or something\n",
    "    if doc.matches[0].tags.get(\"known_label\") == 0.0:\n",
    "        yhat.append(0.0)\n",
    "    else:\n",
    "        yhat.append(1.0)\n",
    "\n",
    "\n",
    "# accuracy: (tp + tn) / (p + n)\n",
    "accuracy = accuracy_score(y_test, yhat)\n",
    "print('Accuracy: %f' % accuracy)\n",
    "# precision tp / (tp + fp)\n",
    "precision = precision_score(y_test, yhat)\n",
    "print('Precision: %f' % precision)\n",
    "# recall: tp / (tp + fn)\n",
    "recall = recall_score(y_test, yhat)\n",
    "print('Recall: %f' % recall)\n",
    "# f1: 2 tp / (2 tp + fp + fn)\n",
    "f1 = f1_score(y_test, yhat)\n",
    "print('F1 score: %f' % f1)"
   ]
  }
 ],
 "metadata": {
  "interpreter": {
   "hash": "946a1b1376f207bfafe84a4943b8adca67230adb21a10f094dc82ed01a8d79f9"
  },
  "kernelspec": {
   "display_name": "Python 3.8.8 ('base')",
   "language": "python",
   "name": "python3"
  },
  "language_info": {
   "codemirror_mode": {
    "name": "ipython",
    "version": 3
   },
   "file_extension": ".py",
   "mimetype": "text/x-python",
   "name": "python",
   "nbconvert_exporter": "python",
   "pygments_lexer": "ipython3",
   "version": "3.8.8"
  },
  "orig_nbformat": 4
 },
 "nbformat": 4,
 "nbformat_minor": 2
}
